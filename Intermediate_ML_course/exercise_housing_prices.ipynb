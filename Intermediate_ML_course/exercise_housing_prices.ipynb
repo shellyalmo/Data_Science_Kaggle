{
 "cells": [
  {
   "cell_type": "markdown",
   "metadata": {},
   "source": [
    "The data is from the Housing Prices Competition for Kaggle Learn Users to predict home prices in Iowa using 79 explanatory variables describing (almost) every aspect of the homes.\n",
    "https://www.kaggle.com/c/home-data-for-ml-course"
   ]
  },
  {
   "cell_type": "code",
   "execution_count": 1,
   "metadata": {
    "execution": {
     "iopub.execute_input": "2020-09-03T13:01:32.414735Z",
     "iopub.status.busy": "2020-09-03T13:01:32.414135Z",
     "iopub.status.idle": "2020-09-03T13:01:32.492368Z",
     "shell.execute_reply": "2020-09-03T13:01:32.492811Z"
    },
    "papermill": {
     "duration": 0.091416,
     "end_time": "2020-09-03T13:01:32.492962",
     "exception": false,
     "start_time": "2020-09-03T13:01:32.401546",
     "status": "completed"
    },
    "tags": []
   },
   "outputs": [],
   "source": [
    "import pandas as pd\n",
    "from sklearn.model_selection import train_test_split\n",
    "\n",
    "# Read the data\n",
    "X_full = pd.read_csv(r'C:\\Users\\Shelly\\Documents\\learning_to_program\\data_science\\Kaggle\\courses\\Kaggle_Intermediate_ML\\train.csv', index_col='Id')\n",
    "X_test_full = pd.read_csv(r'C:\\Users\\Shelly\\Documents\\learning_to_program\\data_science\\Kaggle\\courses\\Kaggle_Intermediate_ML\\test.csv', index_col='Id')\n",
    "\n",
    "# Obtain target and predictors\n",
    "y = X_full.SalePrice\n",
    "features = ['LotArea', 'YearBuilt', '1stFlrSF', '2ndFlrSF', 'FullBath', 'BedroomAbvGr', 'TotRmsAbvGrd']\n",
    "X = X_full[features].copy()\n",
    "X_test = X_test_full[features].copy()\n",
    "\n",
    "# Break off validation set from training data\n",
    "X_train, X_valid, y_train, y_valid = train_test_split(X, y, train_size=0.8, test_size=0.2,\n",
    "                                                      random_state=0)"
   ]
  },
  {
   "cell_type": "code",
   "execution_count": 2,
   "metadata": {
    "execution": {
     "iopub.execute_input": "2020-09-03T13:01:32.519018Z",
     "iopub.status.busy": "2020-09-03T13:01:32.518393Z",
     "iopub.status.idle": "2020-09-03T13:01:32.527820Z",
     "shell.execute_reply": "2020-09-03T13:01:32.527328Z"
    },
    "papermill": {
     "duration": 0.021839,
     "end_time": "2020-09-03T13:01:32.527927",
     "exception": false,
     "start_time": "2020-09-03T13:01:32.506088",
     "status": "completed"
    },
    "tags": []
   },
   "outputs": [
    {
     "data": {
      "text/html": [
       "<div>\n",
       "<style scoped>\n",
       "    .dataframe tbody tr th:only-of-type {\n",
       "        vertical-align: middle;\n",
       "    }\n",
       "\n",
       "    .dataframe tbody tr th {\n",
       "        vertical-align: top;\n",
       "    }\n",
       "\n",
       "    .dataframe thead th {\n",
       "        text-align: right;\n",
       "    }\n",
       "</style>\n",
       "<table border=\"1\" class=\"dataframe\">\n",
       "  <thead>\n",
       "    <tr style=\"text-align: right;\">\n",
       "      <th></th>\n",
       "      <th>LotArea</th>\n",
       "      <th>YearBuilt</th>\n",
       "      <th>1stFlrSF</th>\n",
       "      <th>2ndFlrSF</th>\n",
       "      <th>FullBath</th>\n",
       "      <th>BedroomAbvGr</th>\n",
       "      <th>TotRmsAbvGrd</th>\n",
       "    </tr>\n",
       "    <tr>\n",
       "      <th>Id</th>\n",
       "      <th></th>\n",
       "      <th></th>\n",
       "      <th></th>\n",
       "      <th></th>\n",
       "      <th></th>\n",
       "      <th></th>\n",
       "      <th></th>\n",
       "    </tr>\n",
       "  </thead>\n",
       "  <tbody>\n",
       "    <tr>\n",
       "      <td>619</td>\n",
       "      <td>11694</td>\n",
       "      <td>2007</td>\n",
       "      <td>1828</td>\n",
       "      <td>0</td>\n",
       "      <td>2</td>\n",
       "      <td>3</td>\n",
       "      <td>9</td>\n",
       "    </tr>\n",
       "    <tr>\n",
       "      <td>871</td>\n",
       "      <td>6600</td>\n",
       "      <td>1962</td>\n",
       "      <td>894</td>\n",
       "      <td>0</td>\n",
       "      <td>1</td>\n",
       "      <td>2</td>\n",
       "      <td>5</td>\n",
       "    </tr>\n",
       "    <tr>\n",
       "      <td>93</td>\n",
       "      <td>13360</td>\n",
       "      <td>1921</td>\n",
       "      <td>964</td>\n",
       "      <td>0</td>\n",
       "      <td>1</td>\n",
       "      <td>2</td>\n",
       "      <td>5</td>\n",
       "    </tr>\n",
       "    <tr>\n",
       "      <td>818</td>\n",
       "      <td>13265</td>\n",
       "      <td>2002</td>\n",
       "      <td>1689</td>\n",
       "      <td>0</td>\n",
       "      <td>2</td>\n",
       "      <td>3</td>\n",
       "      <td>7</td>\n",
       "    </tr>\n",
       "    <tr>\n",
       "      <td>303</td>\n",
       "      <td>13704</td>\n",
       "      <td>2001</td>\n",
       "      <td>1541</td>\n",
       "      <td>0</td>\n",
       "      <td>2</td>\n",
       "      <td>3</td>\n",
       "      <td>6</td>\n",
       "    </tr>\n",
       "  </tbody>\n",
       "</table>\n",
       "</div>"
      ],
      "text/plain": [
       "     LotArea  YearBuilt  1stFlrSF  2ndFlrSF  FullBath  BedroomAbvGr  \\\n",
       "Id                                                                    \n",
       "619    11694       2007      1828         0         2             3   \n",
       "871     6600       1962       894         0         1             2   \n",
       "93     13360       1921       964         0         1             2   \n",
       "818    13265       2002      1689         0         2             3   \n",
       "303    13704       2001      1541         0         2             3   \n",
       "\n",
       "     TotRmsAbvGrd  \n",
       "Id                 \n",
       "619             9  \n",
       "871             5  \n",
       "93              5  \n",
       "818             7  \n",
       "303             6  "
      ]
     },
     "execution_count": 2,
     "metadata": {},
     "output_type": "execute_result"
    }
   ],
   "source": [
    "X_train.head()"
   ]
  },
  {
   "cell_type": "markdown",
   "metadata": {
    "papermill": {
     "duration": 0.00445,
     "end_time": "2020-09-03T13:01:32.537041",
     "exception": false,
     "start_time": "2020-09-03T13:01:32.532591",
     "status": "completed"
    },
    "tags": []
   },
   "source": [
    "### Evaluate several Random Forest models"
   ]
  },
  {
   "cell_type": "code",
   "execution_count": 3,
   "metadata": {
    "execution": {
     "iopub.execute_input": "2020-09-03T13:01:32.552728Z",
     "iopub.status.busy": "2020-09-03T13:01:32.552154Z",
     "iopub.status.idle": "2020-09-03T13:01:32.554660Z",
     "shell.execute_reply": "2020-09-03T13:01:32.555178Z"
    },
    "papermill": {
     "duration": 0.013877,
     "end_time": "2020-09-03T13:01:32.555310",
     "exception": false,
     "start_time": "2020-09-03T13:01:32.541433",
     "status": "completed"
    },
    "tags": []
   },
   "outputs": [],
   "source": [
    "from sklearn.ensemble import RandomForestRegressor\n",
    "\n",
    "# Define the models\n",
    "model_1 = RandomForestRegressor(n_estimators=50, random_state=0)\n",
    "model_2 = RandomForestRegressor(n_estimators=100, random_state=0)\n",
    "model_3 = RandomForestRegressor(n_estimators=100, criterion='mae', random_state=0)\n",
    "model_4 = RandomForestRegressor(n_estimators=200, min_samples_split=20, random_state=0)\n",
    "model_5 = RandomForestRegressor(n_estimators=100, max_depth=7, random_state=0)\n",
    "\n",
    "models = [model_1, model_2, model_3, model_4, model_5]"
   ]
  },
  {
   "cell_type": "code",
   "execution_count": 4,
   "metadata": {
    "execution": {
     "iopub.execute_input": "2020-09-03T13:01:32.587195Z",
     "iopub.status.busy": "2020-09-03T13:01:32.586583Z",
     "iopub.status.idle": "2020-09-03T13:01:41.620554Z",
     "shell.execute_reply": "2020-09-03T13:01:41.619969Z"
    },
    "papermill": {
     "duration": 9.052316,
     "end_time": "2020-09-03T13:01:41.620678",
     "exception": false,
     "start_time": "2020-09-03T13:01:32.568362",
     "status": "completed"
    },
    "tags": []
   },
   "outputs": [
    {
     "name": "stdout",
     "output_type": "stream",
     "text": [
      "Model 1 MAE: 24015\n",
      "Model 2 MAE: 23740\n",
      "Model 3 MAE: 23528\n",
      "Model 4 MAE: 23996\n",
      "Model 5 MAE: 23706\n"
     ]
    }
   ],
   "source": [
    "from sklearn.metrics import mean_absolute_error\n",
    "\n",
    "# Function for comparing different models by the mean absolute error (MAE)\n",
    "def score_model(model, X_t=X_train, X_v=X_valid, y_t=y_train, y_v=y_valid):\n",
    "    model.fit(X_t, y_t)\n",
    "    preds = model.predict(X_v)\n",
    "    return mean_absolute_error(y_v, preds)\n",
    "\n",
    "list_of_mae=[]\n",
    "for i in range(0, len(models)):\n",
    "    mae = score_model(models[i])\n",
    "    list_of_mae.append(score_model(models[i]))\n",
    "    print(\"Model %d MAE: %d\" % (i+1, mae))\n"
   ]
  },
  {
   "cell_type": "code",
   "execution_count": 5,
   "metadata": {
    "execution": {
     "iopub.execute_input": "2020-09-03T13:01:41.635807Z",
     "iopub.status.busy": "2020-09-03T13:01:41.635035Z",
     "iopub.status.idle": "2020-09-03T13:01:41.641942Z",
     "shell.execute_reply": "2020-09-03T13:01:41.641422Z"
    },
    "papermill": {
     "duration": 0.016525,
     "end_time": "2020-09-03T13:01:41.642056",
     "exception": false,
     "start_time": "2020-09-03T13:01:41.625531",
     "status": "completed"
    },
    "tags": []
   },
   "outputs": [
    {
     "name": "stdout",
     "output_type": "stream",
     "text": [
      "[24015.492818003917, 23740.979228636657, 23528.78421232877, 23996.676789668687, 23706.672864217904]\n",
      "{RandomForestRegressor(bootstrap=True, criterion='mse', max_depth=None,\n",
      "                      max_features='auto', max_leaf_nodes=None,\n",
      "                      min_impurity_decrease=0.0, min_impurity_split=None,\n",
      "                      min_samples_leaf=1, min_samples_split=2,\n",
      "                      min_weight_fraction_leaf=0.0, n_estimators=50,\n",
      "                      n_jobs=None, oob_score=False, random_state=0, verbose=0,\n",
      "                      warm_start=False): 24015.492818003917, RandomForestRegressor(bootstrap=True, criterion='mse', max_depth=None,\n",
      "                      max_features='auto', max_leaf_nodes=None,\n",
      "                      min_impurity_decrease=0.0, min_impurity_split=None,\n",
      "                      min_samples_leaf=1, min_samples_split=2,\n",
      "                      min_weight_fraction_leaf=0.0, n_estimators=100,\n",
      "                      n_jobs=None, oob_score=False, random_state=0, verbose=0,\n",
      "                      warm_start=False): 23740.979228636657, RandomForestRegressor(bootstrap=True, criterion='mae', max_depth=None,\n",
      "                      max_features='auto', max_leaf_nodes=None,\n",
      "                      min_impurity_decrease=0.0, min_impurity_split=None,\n",
      "                      min_samples_leaf=1, min_samples_split=2,\n",
      "                      min_weight_fraction_leaf=0.0, n_estimators=100,\n",
      "                      n_jobs=None, oob_score=False, random_state=0, verbose=0,\n",
      "                      warm_start=False): 23528.78421232877, RandomForestRegressor(bootstrap=True, criterion='mse', max_depth=None,\n",
      "                      max_features='auto', max_leaf_nodes=None,\n",
      "                      min_impurity_decrease=0.0, min_impurity_split=None,\n",
      "                      min_samples_leaf=1, min_samples_split=20,\n",
      "                      min_weight_fraction_leaf=0.0, n_estimators=200,\n",
      "                      n_jobs=None, oob_score=False, random_state=0, verbose=0,\n",
      "                      warm_start=False): 23996.676789668687, RandomForestRegressor(bootstrap=True, criterion='mse', max_depth=7,\n",
      "                      max_features='auto', max_leaf_nodes=None,\n",
      "                      min_impurity_decrease=0.0, min_impurity_split=None,\n",
      "                      min_samples_leaf=1, min_samples_split=2,\n",
      "                      min_weight_fraction_leaf=0.0, n_estimators=100,\n",
      "                      n_jobs=None, oob_score=False, random_state=0, verbose=0,\n",
      "                      warm_start=False): 23706.672864217904}\n"
     ]
    }
   ],
   "source": [
    "print(list_of_mae)\n",
    "mae_dict = dict(zip(models,list_of_mae))\n",
    "print(mae_dict)"
   ]
  },
  {
   "cell_type": "code",
   "execution_count": 7,
   "metadata": {
    "execution": {
     "iopub.execute_input": "2020-09-03T13:01:41.666936Z",
     "iopub.status.busy": "2020-09-03T13:01:41.666054Z",
     "iopub.status.idle": "2020-09-03T13:01:41.671748Z",
     "shell.execute_reply": "2020-09-03T13:01:41.671190Z"
    },
    "papermill": {
     "duration": 0.01537,
     "end_time": "2020-09-03T13:01:41.671852",
     "exception": false,
     "start_time": "2020-09-03T13:01:41.656482",
     "status": "completed"
    },
    "tags": []
   },
   "outputs": [],
   "source": [
    "# Find best model\n",
    "best_model = min(mae_dict, key=mae_dict.get)"
   ]
  },
  {
   "cell_type": "markdown",
   "metadata": {
    "papermill": {
     "duration": 0.004733,
     "end_time": "2020-09-03T13:01:41.698161",
     "exception": false,
     "start_time": "2020-09-03T13:01:41.693428",
     "status": "completed"
    },
    "tags": []
   },
   "source": [
    "### Generate test predictions"
   ]
  },
  {
   "cell_type": "code",
   "execution_count": 8,
   "metadata": {
    "execution": {
     "iopub.execute_input": "2020-09-03T13:01:41.713095Z",
     "iopub.status.busy": "2020-09-03T13:01:41.712498Z",
     "iopub.status.idle": "2020-09-03T13:01:41.716634Z",
     "shell.execute_reply": "2020-09-03T13:01:41.717126Z"
    },
    "papermill": {
     "duration": 0.014214,
     "end_time": "2020-09-03T13:01:41.717259",
     "exception": false,
     "start_time": "2020-09-03T13:01:41.703045",
     "status": "completed"
    },
    "tags": []
   },
   "outputs": [],
   "source": [
    "# Define a model\n",
    "my_model = RandomForestRegressor(random_state=1)"
   ]
  },
  {
   "cell_type": "code",
   "execution_count": 10,
   "metadata": {
    "execution": {
     "iopub.execute_input": "2020-09-03T13:01:41.774216Z",
     "iopub.status.busy": "2020-09-03T13:01:41.768980Z",
     "iopub.status.idle": "2020-09-03T13:01:42.654761Z",
     "shell.execute_reply": "2020-09-03T13:01:42.654195Z"
    },
    "papermill": {
     "duration": 0.903618,
     "end_time": "2020-09-03T13:01:42.654865",
     "exception": false,
     "start_time": "2020-09-03T13:01:41.751247",
     "status": "completed"
    },
    "tags": []
   },
   "outputs": [],
   "source": [
    "# Fit the model to the training data\n",
    "my_model.fit(X, y)\n",
    "\n",
    "# Generate test predictions\n",
    "preds_test = my_model.predict(X_test)\n",
    "\n",
    "# Save predictions in format used for competition scoring\n",
    "output = pd.DataFrame({'Id': X_test.index,\n",
    "                       'SalePrice': preds_test})\n",
    "output.to_csv('submission.csv', index=False)"
   ]
  }
 ],
 "metadata": {
  "kernelspec": {
   "display_name": "Python 3",
   "language": "python",
   "name": "python3"
  },
  "language_info": {
   "codemirror_mode": {
    "name": "ipython",
    "version": 3
   },
   "file_extension": ".py",
   "mimetype": "text/x-python",
   "name": "python",
   "nbconvert_exporter": "python",
   "pygments_lexer": "ipython3",
   "version": "3.7.4"
  },
  "papermill": {
   "duration": 15.809341,
   "end_time": "2020-09-03T13:01:42.796946",
   "environment_variables": {},
   "exception": null,
   "input_path": "__notebook__.ipynb",
   "output_path": "__notebook__.ipynb",
   "parameters": {},
   "start_time": "2020-09-03T13:01:26.987605",
   "version": "2.1.0"
  }
 },
 "nbformat": 4,
 "nbformat_minor": 4
}
