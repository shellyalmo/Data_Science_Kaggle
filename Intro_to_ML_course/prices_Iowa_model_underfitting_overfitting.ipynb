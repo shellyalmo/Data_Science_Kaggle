{
 "cells": [
  {
   "cell_type": "code",
   "execution_count": 5,
   "metadata": {
    "execution": {
     "iopub.execute_input": "2020-09-02T14:12:49.291095Z",
     "iopub.status.busy": "2020-09-02T14:12:49.290261Z",
     "iopub.status.idle": "2020-09-02T14:12:50.673122Z",
     "shell.execute_reply": "2020-09-02T14:12:50.672303Z"
    },
    "papermill": {
     "duration": 1.400518,
     "end_time": "2020-09-02T14:12:50.673265",
     "exception": false,
     "start_time": "2020-09-02T14:12:49.272747",
     "status": "completed"
    },
    "tags": []
   },
   "outputs": [
    {
     "name": "stdout",
     "output_type": "stream",
     "text": [
      "Validation MAE: 29,653\n"
     ]
    }
   ],
   "source": [
    "# load data\n",
    "import pandas as pd\n",
    "from sklearn.metrics import mean_absolute_error\n",
    "from sklearn.model_selection import train_test_split\n",
    "from sklearn.tree import DecisionTreeRegressor\n",
    "\n",
    "\n",
    "# Path of the file to read\n",
    "iowa_file_path = r'C:/Users/Shelly/Documents/learning_to_program/data_science/machine learning/Kaggle_intro_to_ML/Iowa_train.csv'\n",
    "\n",
    "home_data = pd.read_csv(iowa_file_path)\n",
    "# Create target object and call it y\n",
    "y = home_data.SalePrice\n",
    "# Create X\n",
    "features = ['LotArea', 'YearBuilt', '1stFlrSF', '2ndFlrSF', 'FullBath', 'BedroomAbvGr', 'TotRmsAbvGrd']\n",
    "X = home_data[features]\n",
    "\n",
    "# Split into validation and training data\n",
    "train_X, val_X, train_y, val_y = train_test_split(X, y, random_state=1)\n",
    "\n",
    "# Specify Model\n",
    "iowa_model = DecisionTreeRegressor(random_state=1)\n",
    "# Fit Model\n",
    "iowa_model.fit(train_X, train_y)\n",
    "\n",
    "# Make validation predictions and calculate mean absolute error\n",
    "val_predictions = iowa_model.predict(val_X)\n",
    "val_mae = mean_absolute_error(val_predictions, val_y)\n",
    "print(\"Validation MAE: {:,.0f}\".format(val_mae))"
   ]
  },
  {
   "cell_type": "code",
   "execution_count": 6,
   "metadata": {
    "execution": {
     "iopub.execute_input": "2020-09-02T14:12:50.704281Z",
     "iopub.status.busy": "2020-09-02T14:12:50.703068Z",
     "iopub.status.idle": "2020-09-02T14:12:50.706865Z",
     "shell.execute_reply": "2020-09-02T14:12:50.706115Z"
    },
    "papermill": {
     "duration": 0.017945,
     "end_time": "2020-09-02T14:12:50.706989",
     "exception": false,
     "start_time": "2020-09-02T14:12:50.689044",
     "status": "completed"
    },
    "tags": []
   },
   "outputs": [],
   "source": [
    "def get_mae(max_leaf_nodes, train_X, val_X, train_y, val_y):\n",
    "    model = DecisionTreeRegressor(max_leaf_nodes=max_leaf_nodes, random_state=0)\n",
    "    model.fit(train_X, train_y)\n",
    "    preds_val = model.predict(val_X)\n",
    "    mae = mean_absolute_error(val_y, preds_val)\n",
    "    return(mae)"
   ]
  },
  {
   "cell_type": "code",
   "execution_count": 7,
   "metadata": {
    "execution": {
     "iopub.execute_input": "2020-09-02T14:12:50.740381Z",
     "iopub.status.busy": "2020-09-02T14:12:50.739449Z",
     "iopub.status.idle": "2020-09-02T14:12:50.794016Z",
     "shell.execute_reply": "2020-09-02T14:12:50.793378Z"
    },
    "papermill": {
     "duration": 0.071567,
     "end_time": "2020-09-02T14:12:50.794150",
     "exception": false,
     "start_time": "2020-09-02T14:12:50.722583",
     "status": "completed"
    },
    "tags": []
   },
   "outputs": [
    {
     "name": "stdout",
     "output_type": "stream",
     "text": [
      "{5: 35044.51299744237, 25: 29016.41319191076, 50: 27405.930473214907, 100: 27282.50803885739, 250: 27893.822225701646, 500: 29454.18598068598}\n",
      "5\n",
      "100\n"
     ]
    }
   ],
   "source": [
    "candidate_max_leaf_nodes = [5, 25, 50, 100, 250, 500]\n",
    "list_of_mae = []\n",
    "dict_of_mae = {}\n",
    "# find the ideal tree size from candidate_max_leaf_nodes\n",
    "for candidate in candidate_max_leaf_nodes:\n",
    "    list_of_mae.append(get_mae(candidate,train_X,val_X,train_y,val_y))\n",
    "    \n",
    "dict_of_mae = dict(zip(candidate_max_leaf_nodes,list_of_mae))\n",
    "print(dict_of_mae)\n",
    "print(min(dict_of_mae))\n",
    "\n",
    "# best value of max_leaf_nodes\n",
    "best_tree_size = min(dict_of_mae,key=dict_of_mae.get)\n",
    "print(best_tree_size)\n"
   ]
  },
  {
   "cell_type": "code",
   "execution_count": 8,
   "metadata": {
    "execution": {
     "iopub.execute_input": "2020-09-02T14:12:50.852250Z",
     "iopub.status.busy": "2020-09-02T14:12:50.851428Z",
     "iopub.status.idle": "2020-09-02T14:12:50.864379Z",
     "shell.execute_reply": "2020-09-02T14:12:50.865008Z"
    },
    "papermill": {
     "duration": 0.028294,
     "end_time": "2020-09-02T14:12:50.865174",
     "exception": false,
     "start_time": "2020-09-02T14:12:50.836880",
     "status": "completed"
    },
    "tags": []
   },
   "outputs": [
    {
     "data": {
      "text/plain": [
       "DecisionTreeRegressor(criterion='mse', max_depth=None, max_features=None,\n",
       "                      max_leaf_nodes=100, min_impurity_decrease=0.0,\n",
       "                      min_impurity_split=None, min_samples_leaf=1,\n",
       "                      min_samples_split=2, min_weight_fraction_leaf=0.0,\n",
       "                      presort=False, random_state=1, splitter='best')"
      ]
     },
     "execution_count": 8,
     "metadata": {},
     "output_type": "execute_result"
    }
   ],
   "source": [
    "final_model = DecisionTreeRegressor(max_leaf_nodes=best_tree_size, random_state=1)\n",
    "\n",
    "# fit the final model \n",
    "final_model.fit(X, y)\n"
   ]
  }
 ],
 "metadata": {
  "kernelspec": {
   "display_name": "Python 3",
   "language": "python",
   "name": "python3"
  },
  "language_info": {
   "codemirror_mode": {
    "name": "ipython",
    "version": 3
   },
   "file_extension": ".py",
   "mimetype": "text/x-python",
   "name": "python",
   "nbconvert_exporter": "python",
   "pygments_lexer": "ipython3",
   "version": "3.7.4"
  },
  "papermill": {
   "duration": 6.661136,
   "end_time": "2020-09-02T14:12:51.032301",
   "environment_variables": {},
   "exception": null,
   "input_path": "__notebook__.ipynb",
   "output_path": "__notebook__.ipynb",
   "parameters": {},
   "start_time": "2020-09-02T14:12:44.371165",
   "version": "2.1.0"
  }
 },
 "nbformat": 4,
 "nbformat_minor": 4
}
