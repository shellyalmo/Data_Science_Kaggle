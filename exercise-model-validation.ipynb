{
 "cells": [
  {
   "cell_type": "markdown",
   "execution_count": null,
   "metadata": {
    "papermill": {
     "duration": 0.0089,
     "end_time": "2020-08-30T14:45:59.023663",
     "exception": false,
     "start_time": "2020-08-30T14:45:59.014763",
     "status": "completed"
    },
    "tags": []
   },
   "source": [
    "**[Introduction to Machine Learning Home Page](https://www.kaggle.com/learn/intro-to-machine-learning)**\n",
    "\n",
    "---\n"
   ]
  },
  {
   "cell_type": "markdown",
   "execution_count": null,
   "metadata": {
    "papermill": {
     "duration": 0.006076,
     "end_time": "2020-08-30T14:45:59.036207",
     "exception": false,
     "start_time": "2020-08-30T14:45:59.030131",
     "status": "completed"
    },
    "tags": []
   },
   "source": [
    "## Recap\n",
    "You've built a model. In this exercise you will test how good your model is.\n",
    "\n",
    "Run the cell below to set up your coding environment where the previous exercise left off."
   ]
  },
  {
   "cell_type": "code",
   "execution_count": 1,
   "metadata": {
    "execution": {
     "iopub.execute_input": "2020-08-30T14:45:59.060013Z",
     "iopub.status.busy": "2020-08-30T14:45:59.059010Z",
     "iopub.status.idle": "2020-08-30T14:46:00.269749Z",
     "shell.execute_reply": "2020-08-30T14:46:00.268985Z"
    },
    "papermill": {
     "duration": 1.227589,
     "end_time": "2020-08-30T14:46:00.269879",
     "exception": false,
     "start_time": "2020-08-30T14:45:59.042290",
     "status": "completed"
    },
    "tags": []
   },
   "outputs": [
    {
     "name": "stdout",
     "output_type": "stream",
     "text": [
      "First in-sample predictions: [208500. 181500. 223500. 140000. 250000.]\n",
      "Actual target values for those homes: [208500, 181500, 223500, 140000, 250000]\n",
      "Setup Complete\n"
     ]
    }
   ],
   "source": [
    "# Code you have previously used to load data\n",
    "import pandas as pd\n",
    "from sklearn.tree import DecisionTreeRegressor\n",
    "\n",
    "# Path of the file to read\n",
    "iowa_file_path = '../input/home-data-for-ml-course/train.csv'\n",
    "\n",
    "home_data = pd.read_csv(iowa_file_path)\n",
    "y = home_data.SalePrice\n",
    "feature_columns = ['LotArea', 'YearBuilt', '1stFlrSF', '2ndFlrSF', 'FullBath', 'BedroomAbvGr', 'TotRmsAbvGrd']\n",
    "X = home_data[feature_columns]\n",
    "\n",
    "# Specify Model\n",
    "iowa_model = DecisionTreeRegressor()\n",
    "# Fit Model\n",
    "iowa_model.fit(X, y)\n",
    "\n",
    "print(\"First in-sample predictions:\", iowa_model.predict(X.head()))\n",
    "print(\"Actual target values for those homes:\", y.head().tolist())\n",
    "\n",
    "# Set up code checking\n",
    "from learntools.core import binder\n",
    "binder.bind(globals())\n",
    "from learntools.machine_learning.ex4 import *\n",
    "print(\"Setup Complete\")"
   ]
  },
  {
   "cell_type": "markdown",
   "execution_count": null,
   "metadata": {
    "papermill": {
     "duration": 0.005896,
     "end_time": "2020-08-30T14:46:00.284025",
     "exception": false,
     "start_time": "2020-08-30T14:46:00.278129",
     "status": "completed"
    },
    "tags": []
   },
   "source": [
    "# Exercises\n",
    "\n",
    "## Step 1: Split Your Data\n",
    "Use the `train_test_split` function to split up your data.\n",
    "\n",
    "Give it the argument `random_state=1` so the `check` functions know what to expect when verifying your code.\n",
    "\n",
    "Recall, your features are loaded in the DataFrame **X** and your target is loaded in **y**.\n"
   ]
  },
  {
   "cell_type": "code",
   "execution_count": 2,
   "metadata": {
    "execution": {
     "iopub.execute_input": "2020-08-30T14:46:00.307196Z",
     "iopub.status.busy": "2020-08-30T14:46:00.306012Z",
     "iopub.status.idle": "2020-08-30T14:46:00.316780Z",
     "shell.execute_reply": "2020-08-30T14:46:00.316161Z"
    },
    "papermill": {
     "duration": 0.026788,
     "end_time": "2020-08-30T14:46:00.316901",
     "exception": false,
     "start_time": "2020-08-30T14:46:00.290113",
     "status": "completed"
    },
    "tags": []
   },
   "outputs": [
    {
     "data": {
      "application/javascript": [
       "parent.postMessage({\"jupyterEvent\": \"custom.exercise_interaction\", \"data\": {\"outcomeType\": 1, \"valueTowardsCompletion\": 0.25, \"interactionType\": 1, \"questionType\": 2, \"questionId\": \"1_SplitData\", \"learnToolsVersion\": \"0.3.4\", \"failureMessage\": \"\", \"exceptionClass\": \"\", \"trace\": \"\"}}, \"*\")"
      ],
      "text/plain": [
       "<IPython.core.display.Javascript object>"
      ]
     },
     "metadata": {},
     "output_type": "display_data"
    },
    {
     "data": {
      "text/markdown": [
       "<span style=\"color:#33cc33\">Correct</span>"
      ],
      "text/plain": [
       "Correct"
      ]
     },
     "metadata": {},
     "output_type": "display_data"
    }
   ],
   "source": [
    "# Import the train_test_split function and uncomment\n",
    "from sklearn.model_selection import train_test_split\n",
    "\n",
    "# fill in and uncomment\n",
    "train_X, val_X, train_y, val_y = train_test_split(X, y, random_state = 1)\n",
    "\n",
    "# Check your answer\n",
    "step_1.check()"
   ]
  },
  {
   "cell_type": "code",
   "execution_count": 3,
   "metadata": {
    "execution": {
     "iopub.execute_input": "2020-08-30T14:46:00.335586Z",
     "iopub.status.busy": "2020-08-30T14:46:00.334682Z",
     "iopub.status.idle": "2020-08-30T14:46:00.337811Z",
     "shell.execute_reply": "2020-08-30T14:46:00.337245Z"
    },
    "papermill": {
     "duration": 0.014224,
     "end_time": "2020-08-30T14:46:00.337934",
     "exception": false,
     "start_time": "2020-08-30T14:46:00.323710",
     "status": "completed"
    },
    "tags": []
   },
   "outputs": [],
   "source": [
    "# The lines below will show you a hint or the solution.\n",
    "# step_1.hint() \n",
    "# step_1.solution()\n"
   ]
  },
  {
   "cell_type": "markdown",
   "execution_count": null,
   "metadata": {
    "papermill": {
     "duration": 0.006545,
     "end_time": "2020-08-30T14:46:00.351266",
     "exception": false,
     "start_time": "2020-08-30T14:46:00.344721",
     "status": "completed"
    },
    "tags": []
   },
   "source": [
    "## Step 2: Specify and Fit the Model\n",
    "\n",
    "Create a `DecisionTreeRegressor` model and fit it to the relevant data.\n",
    "Set `random_state` to 1 again when creating the model."
   ]
  },
  {
   "cell_type": "code",
   "execution_count": 4,
   "metadata": {
    "execution": {
     "iopub.execute_input": "2020-08-30T14:46:00.373988Z",
     "iopub.status.busy": "2020-08-30T14:46:00.373187Z",
     "iopub.status.idle": "2020-08-30T14:46:00.398820Z",
     "shell.execute_reply": "2020-08-30T14:46:00.399581Z"
    },
    "papermill": {
     "duration": 0.041804,
     "end_time": "2020-08-30T14:46:00.399762",
     "exception": false,
     "start_time": "2020-08-30T14:46:00.357958",
     "status": "completed"
    },
    "tags": []
   },
   "outputs": [
    {
     "name": "stdout",
     "output_type": "stream",
     "text": [
      "[186500. 184000. 130000.  92000. 164500. 220000. 335000. 144152. 215000.\n",
      " 262000.]\n",
      "[186500. 184000. 130000.  92000. 164500. 220000. 335000. 144152. 215000.\n",
      " 262000.]\n"
     ]
    },
    {
     "data": {
      "application/javascript": [
       "parent.postMessage({\"jupyterEvent\": \"custom.exercise_interaction\", \"data\": {\"outcomeType\": 1, \"valueTowardsCompletion\": 0.25, \"interactionType\": 1, \"questionType\": 2, \"questionId\": \"2_FitModelWithTrain\", \"learnToolsVersion\": \"0.3.4\", \"failureMessage\": \"\", \"exceptionClass\": \"\", \"trace\": \"\"}}, \"*\")"
      ],
      "text/plain": [
       "<IPython.core.display.Javascript object>"
      ]
     },
     "metadata": {},
     "output_type": "display_data"
    },
    {
     "data": {
      "text/markdown": [
       "<span style=\"color:#33cc33\">Correct</span>"
      ],
      "text/plain": [
       "Correct"
      ]
     },
     "metadata": {},
     "output_type": "display_data"
    }
   ],
   "source": [
    "# You imported DecisionTreeRegressor in your last exercise\n",
    "# and that code has been copied to the setup code above. So, no need to\n",
    "# import it again\n",
    "\n",
    "# Specify the model\n",
    "iowa_model = DecisionTreeRegressor(random_state=1)\n",
    "\n",
    "# Fit iowa_model with the training data.\n",
    "iowa_model.fit(train_X,train_y)\n",
    "\n",
    "# Check your answer\n",
    "step_2.check()"
   ]
  },
  {
   "cell_type": "code",
   "execution_count": 5,
   "metadata": {
    "execution": {
     "iopub.execute_input": "2020-08-30T14:46:00.419034Z",
     "iopub.status.busy": "2020-08-30T14:46:00.418262Z",
     "iopub.status.idle": "2020-08-30T14:46:00.422138Z",
     "shell.execute_reply": "2020-08-30T14:46:00.421410Z"
    },
    "papermill": {
     "duration": 0.014992,
     "end_time": "2020-08-30T14:46:00.422262",
     "exception": false,
     "start_time": "2020-08-30T14:46:00.407270",
     "status": "completed"
    },
    "tags": []
   },
   "outputs": [],
   "source": [
    "# step_2.hint()\n",
    "# step_2.solution()"
   ]
  },
  {
   "cell_type": "markdown",
   "execution_count": null,
   "metadata": {
    "papermill": {
     "duration": 0.007046,
     "end_time": "2020-08-30T14:46:00.437368",
     "exception": false,
     "start_time": "2020-08-30T14:46:00.430322",
     "status": "completed"
    },
    "tags": []
   },
   "source": [
    "## Step 3: Make Predictions with Validation data\n"
   ]
  },
  {
   "cell_type": "code",
   "execution_count": 6,
   "metadata": {
    "execution": {
     "iopub.execute_input": "2020-08-30T14:46:00.461381Z",
     "iopub.status.busy": "2020-08-30T14:46:00.458476Z",
     "iopub.status.idle": "2020-08-30T14:46:00.467467Z",
     "shell.execute_reply": "2020-08-30T14:46:00.466701Z"
    },
    "papermill": {
     "duration": 0.023103,
     "end_time": "2020-08-30T14:46:00.467600",
     "exception": false,
     "start_time": "2020-08-30T14:46:00.444497",
     "status": "completed"
    },
    "tags": []
   },
   "outputs": [
    {
     "data": {
      "application/javascript": [
       "parent.postMessage({\"jupyterEvent\": \"custom.exercise_interaction\", \"data\": {\"outcomeType\": 1, \"valueTowardsCompletion\": 0.25, \"interactionType\": 1, \"questionType\": 2, \"questionId\": \"3_ValPreds\", \"learnToolsVersion\": \"0.3.4\", \"failureMessage\": \"\", \"exceptionClass\": \"\", \"trace\": \"\"}}, \"*\")"
      ],
      "text/plain": [
       "<IPython.core.display.Javascript object>"
      ]
     },
     "metadata": {},
     "output_type": "display_data"
    },
    {
     "data": {
      "text/markdown": [
       "<span style=\"color:#33cc33\">Correct</span>"
      ],
      "text/plain": [
       "Correct"
      ]
     },
     "metadata": {},
     "output_type": "display_data"
    }
   ],
   "source": [
    "# Predict with all validation observations\n",
    "val_predictions = iowa_model.predict(val_X)\n",
    "\n",
    "# Check your answer\n",
    "step_3.check()"
   ]
  },
  {
   "cell_type": "code",
   "execution_count": 7,
   "metadata": {
    "execution": {
     "iopub.execute_input": "2020-08-30T14:46:00.487515Z",
     "iopub.status.busy": "2020-08-30T14:46:00.486712Z",
     "iopub.status.idle": "2020-08-30T14:46:00.490158Z",
     "shell.execute_reply": "2020-08-30T14:46:00.489417Z"
    },
    "papermill": {
     "duration": 0.015004,
     "end_time": "2020-08-30T14:46:00.490279",
     "exception": false,
     "start_time": "2020-08-30T14:46:00.475275",
     "status": "completed"
    },
    "tags": []
   },
   "outputs": [],
   "source": [
    "# step_3.hint()\n",
    "# step_3.solution()"
   ]
  },
  {
   "cell_type": "markdown",
   "execution_count": null,
   "metadata": {
    "papermill": {
     "duration": 0.007391,
     "end_time": "2020-08-30T14:46:00.505219",
     "exception": false,
     "start_time": "2020-08-30T14:46:00.497828",
     "status": "completed"
    },
    "tags": []
   },
   "source": [
    "Inspect your predictions and actual values from validation data."
   ]
  },
  {
   "cell_type": "code",
   "execution_count": 8,
   "metadata": {
    "execution": {
     "iopub.execute_input": "2020-08-30T14:46:00.527776Z",
     "iopub.status.busy": "2020-08-30T14:46:00.526892Z",
     "iopub.status.idle": "2020-08-30T14:46:00.531542Z",
     "shell.execute_reply": "2020-08-30T14:46:00.530531Z"
    },
    "papermill": {
     "duration": 0.01901,
     "end_time": "2020-08-30T14:46:00.531676",
     "exception": false,
     "start_time": "2020-08-30T14:46:00.512666",
     "status": "completed"
    },
    "tags": []
   },
   "outputs": [
    {
     "name": "stdout",
     "output_type": "stream",
     "text": [
      "258    231500\n",
      "267    179500\n",
      "288    122000\n",
      "649     84500\n",
      "Name: SalePrice, dtype: int64\n",
      "[186500. 184000. 130000.  92000.]\n"
     ]
    }
   ],
   "source": [
    "# print the top few validation predictions\n",
    "print(val_y[0:4])\n",
    "# print the top few actual prices from validation data\n",
    "print(val_predictions[0:4])"
   ]
  },
  {
   "cell_type": "markdown",
   "execution_count": null,
   "metadata": {
    "papermill": {
     "duration": 0.00767,
     "end_time": "2020-08-30T14:46:00.546998",
     "exception": false,
     "start_time": "2020-08-30T14:46:00.539328",
     "status": "completed"
    },
    "tags": []
   },
   "source": [
    "What do you notice that is different from what you saw with in-sample predictions (which are printed after the top code cell in this page).\n",
    "\n",
    "Do you remember why validation predictions differ from in-sample (or training) predictions? This is an important idea from the last lesson.\n",
    "\n",
    "## Step 4: Calculate the Mean Absolute Error in Validation Data\n"
   ]
  },
  {
   "cell_type": "code",
   "execution_count": 9,
   "metadata": {
    "execution": {
     "iopub.execute_input": "2020-08-30T14:46:00.570992Z",
     "iopub.status.busy": "2020-08-30T14:46:00.569864Z",
     "iopub.status.idle": "2020-08-30T14:46:00.577783Z",
     "shell.execute_reply": "2020-08-30T14:46:00.577150Z"
    },
    "papermill": {
     "duration": 0.023257,
     "end_time": "2020-08-30T14:46:00.577906",
     "exception": false,
     "start_time": "2020-08-30T14:46:00.554649",
     "status": "completed"
    },
    "tags": []
   },
   "outputs": [
    {
     "name": "stdout",
     "output_type": "stream",
     "text": [
      "29652.931506849316\n"
     ]
    },
    {
     "data": {
      "application/javascript": [
       "parent.postMessage({\"jupyterEvent\": \"custom.exercise_interaction\", \"data\": {\"outcomeType\": 1, \"valueTowardsCompletion\": 0.25, \"interactionType\": 1, \"questionType\": 1, \"questionId\": \"4_MAE\", \"learnToolsVersion\": \"0.3.4\", \"failureMessage\": \"\", \"exceptionClass\": \"\", \"trace\": \"\"}}, \"*\")"
      ],
      "text/plain": [
       "<IPython.core.display.Javascript object>"
      ]
     },
     "metadata": {},
     "output_type": "display_data"
    },
    {
     "data": {
      "text/markdown": [
       "<span style=\"color:#33cc33\">Correct</span>"
      ],
      "text/plain": [
       "Correct"
      ]
     },
     "metadata": {},
     "output_type": "display_data"
    }
   ],
   "source": [
    "from sklearn.metrics import mean_absolute_error\n",
    "val_mae = mean_absolute_error(val_y,val_predictions)\n",
    "\n",
    "# uncomment following line to see the validation_mae\n",
    "print(val_mae)\n",
    "\n",
    "# Check your answer\n",
    "step_4.check()"
   ]
  },
  {
   "cell_type": "code",
   "execution_count": 10,
   "metadata": {
    "execution": {
     "iopub.execute_input": "2020-08-30T14:46:00.599147Z",
     "iopub.status.busy": "2020-08-30T14:46:00.598106Z",
     "iopub.status.idle": "2020-08-30T14:46:00.601168Z",
     "shell.execute_reply": "2020-08-30T14:46:00.600533Z"
    },
    "papermill": {
     "duration": 0.015391,
     "end_time": "2020-08-30T14:46:00.601288",
     "exception": false,
     "start_time": "2020-08-30T14:46:00.585897",
     "status": "completed"
    },
    "tags": []
   },
   "outputs": [],
   "source": [
    "# step_4.hint()\n",
    "# step_4.solution()"
   ]
  },
  {
   "cell_type": "markdown",
   "execution_count": null,
   "metadata": {
    "papermill": {
     "duration": 0.007868,
     "end_time": "2020-08-30T14:46:00.617755",
     "exception": false,
     "start_time": "2020-08-30T14:46:00.609887",
     "status": "completed"
    },
    "tags": []
   },
   "source": [
    "Is that MAE good?  There isn't a general rule for what values are good that applies across applications. But you'll see how to use (and improve) this number in the next step.\n",
    "\n",
    "# Keep Going\n",
    "\n",
    "You are ready for **[Underfitting and Overfitting](https://www.kaggle.com/dansbecker/underfitting-and-overfitting).**\n"
   ]
  },
  {
   "cell_type": "markdown",
   "execution_count": null,
   "metadata": {
    "papermill": {
     "duration": 0.007892,
     "end_time": "2020-08-30T14:46:00.633798",
     "exception": false,
     "start_time": "2020-08-30T14:46:00.625906",
     "status": "completed"
    },
    "tags": []
   },
   "source": [
    "---\n",
    "**[Introduction to Machine Learning Home Page](https://www.kaggle.com/learn/intro-to-machine-learning)**\n",
    "\n",
    "\n",
    "\n",
    "\n",
    "\n",
    "*Have questions or comments? Visit the [Learn Discussion forum](https://www.kaggle.com/learn-forum/161285) to chat with other Learners.*"
   ]
  }
 ],
 "metadata": {
  "kernelspec": {
   "display_name": "Python 3",
   "language": "python",
   "name": "python3"
  },
  "language_info": {
   "codemirror_mode": {
    "name": "ipython",
    "version": 3
   },
   "file_extension": ".py",
   "mimetype": "text/x-python",
   "name": "python",
   "nbconvert_exporter": "python",
   "pygments_lexer": "ipython3",
   "version": "3.7.6"
  },
  "papermill": {
   "duration": 6.333672,
   "end_time": "2020-08-30T14:46:00.754797",
   "environment_variables": {},
   "exception": null,
   "input_path": "__notebook__.ipynb",
   "output_path": "__notebook__.ipynb",
   "parameters": {},
   "start_time": "2020-08-30T14:45:54.421125",
   "version": "2.1.0"
  }
 },
 "nbformat": 4,
 "nbformat_minor": 4
}
